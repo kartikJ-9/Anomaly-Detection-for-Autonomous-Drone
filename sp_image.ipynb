{
  "nbformat": 4,
  "nbformat_minor": 0,
  "metadata": {
    "colab": {
      "name": "sp-image.ipynb",
      "provenance": [],
      "authorship_tag": "ABX9TyMkIIzciW4q2rxvq3XEg4/r",
      "include_colab_link": true
    },
    "kernelspec": {
      "name": "python3",
      "display_name": "Python 3"
    }
  },
  "cells": [
    {
      "cell_type": "markdown",
      "metadata": {
        "id": "view-in-github",
        "colab_type": "text"
      },
      "source": [
        "<a href=\"https://colab.research.google.com/github/kartikJ-9/Anomaly-Detection-for-Autonomous-Drone/blob/master/sp_image.ipynb\" target=\"_parent\"><img src=\"https://colab.research.google.com/assets/colab-badge.svg\" alt=\"Open In Colab\"/></a>"
      ]
    },
    {
      "cell_type": "code",
      "metadata": {
        "id": "YZthNIn5tuKo",
        "colab_type": "code",
        "colab": {
          "base_uri": "https://localhost:8080/",
          "height": 119
        },
        "outputId": "49cf2e0a-9530-47be-ab0b-0fb930f15ab5"
      },
      "source": [
        "import numpy as np\n",
        "import pandas as pd\n",
        "df = pd.read_csv(\"/content/SPImage.csv\")\n",
        "print(df.head())"
      ],
      "execution_count": null,
      "outputs": [
        {
          "output_type": "stream",
          "text": [
            "   Unnamed: 0      value  normality\n",
            "0           0  21503.875          0\n",
            "1           1  20722.000          0\n",
            "2           2  51609.500          0\n",
            "3           3  13463.750          0\n",
            "4           4   1776.625          0\n"
          ],
          "name": "stdout"
        }
      ]
    },
    {
      "cell_type": "code",
      "metadata": {
        "id": "3z4tia-yt_hZ",
        "colab_type": "code",
        "colab": {}
      },
      "source": [
        "X = np.array(df['value'])\n",
        "X = X.reshape(-1,1)\n",
        "y = df['normality']\n",
        "from sklearn.model_selection import train_test_split\n",
        "X_train, X_test, y_train, y_test = train_test_split(X, y, test_size = 0.25, random_state = 33)\n"
      ],
      "execution_count": null,
      "outputs": []
    },
    {
      "cell_type": "code",
      "metadata": {
        "id": "GH_uJhmXuVim",
        "colab_type": "code",
        "colab": {
          "base_uri": "https://localhost:8080/",
          "height": 224
        },
        "outputId": "7d260ee6-803b-4690-abd5-22ad1b583251"
      },
      "source": [
        "from sklearn.linear_model import LogisticRegression\n",
        "reg_log = LogisticRegression()\n",
        "reg_log.fit(X_train, y_train)\n",
        "y_pred = reg_log.predict(X_test)\n",
        "from sklearn import metrics\n",
        "print(metrics.classification_report(y_test, y_pred))"
      ],
      "execution_count": null,
      "outputs": [
        {
          "output_type": "stream",
          "text": [
            "              precision    recall  f1-score   support\n",
            "\n",
            "           0       0.00      0.00      0.00        46\n",
            "           1       0.54      1.00      0.71        55\n",
            "\n",
            "    accuracy                           0.54       101\n",
            "   macro avg       0.27      0.50      0.35       101\n",
            "weighted avg       0.30      0.54      0.38       101\n",
            "\n"
          ],
          "name": "stdout"
        },
        {
          "output_type": "stream",
          "text": [
            "/usr/local/lib/python3.6/dist-packages/sklearn/metrics/_classification.py:1272: UndefinedMetricWarning: Precision and F-score are ill-defined and being set to 0.0 in labels with no predicted samples. Use `zero_division` parameter to control this behavior.\n",
            "  _warn_prf(average, modifier, msg_start, len(result))\n"
          ],
          "name": "stderr"
        }
      ]
    },
    {
      "cell_type": "code",
      "metadata": {
        "id": "lGuY7-sbyvsx",
        "colab_type": "code",
        "colab": {
          "base_uri": "https://localhost:8080/",
          "height": 51
        },
        "outputId": "c184ee25-1686-4155-d906-1270698bbbbf"
      },
      "source": [
        "from sklearn.metrics import roc_auc_score,f1_score\n",
        "print(\"roc_auc_score: \", roc_auc_score(y_test, y_pred))\n",
        "print(\"f1 score: \", f1_score(y_test, y_pred))"
      ],
      "execution_count": null,
      "outputs": [
        {
          "output_type": "stream",
          "text": [
            "roc_auc_score:  0.5\n",
            "f1 score:  0.7051282051282052\n"
          ],
          "name": "stdout"
        }
      ]
    },
    {
      "cell_type": "code",
      "metadata": {
        "id": "L4Qxq4rrvRrF",
        "colab_type": "code",
        "colab": {
          "base_uri": "https://localhost:8080/",
          "height": 170
        },
        "outputId": "312fb8dc-870f-41ab-e447-f14e3ce42d7f"
      },
      "source": [
        "from sklearn.ensemble import RandomForestClassifier\n",
        "reg_rf = RandomForestClassifier()\n",
        "reg_rf.fit(X_train, y_train)\n",
        "y_pred = reg_rf.predict(X_test)\n",
        "print(metrics.classification_report(y_test, y_pred))\n"
      ],
      "execution_count": null,
      "outputs": [
        {
          "output_type": "stream",
          "text": [
            "              precision    recall  f1-score   support\n",
            "\n",
            "           0       0.78      0.87      0.82        46\n",
            "           1       0.88      0.80      0.84        55\n",
            "\n",
            "    accuracy                           0.83       101\n",
            "   macro avg       0.83      0.83      0.83       101\n",
            "weighted avg       0.84      0.83      0.83       101\n",
            "\n"
          ],
          "name": "stdout"
        }
      ]
    },
    {
      "cell_type": "code",
      "metadata": {
        "id": "9Q3b1viNwZQg",
        "colab_type": "code",
        "colab": {
          "base_uri": "https://localhost:8080/",
          "height": 51
        },
        "outputId": "9eb078a5-317d-44d2-cf50-cafbddaba28b"
      },
      "source": [
        "from sklearn.metrics import roc_auc_score,f1_score\n",
        "print(\"roc_auc_score: \", roc_auc_score(y_test, y_pred))\n",
        "print(\"f1 score: \", f1_score(y_test, y_pred))"
      ],
      "execution_count": null,
      "outputs": [
        {
          "output_type": "stream",
          "text": [
            "roc_auc_score:  0.8347826086956522\n",
            "f1 score:  0.8380952380952381\n"
          ],
          "name": "stdout"
        }
      ]
    },
    {
      "cell_type": "code",
      "metadata": {
        "id": "v7SUpwm1yaGU",
        "colab_type": "code",
        "colab": {
          "base_uri": "https://localhost:8080/",
          "height": 170
        },
        "outputId": "f2938bdc-e172-4274-ca81-9ec5c2fb556a"
      },
      "source": [
        "from sklearn.svm import SVC\n",
        "reg_svc = SVC()\n",
        "reg_svc.fit(X_train, y_train)\n",
        "y_pred = reg_svc.predict(X_test)\n",
        "print(metrics.classification_report(y_test, y_pred))"
      ],
      "execution_count": null,
      "outputs": [
        {
          "output_type": "stream",
          "text": [
            "              precision    recall  f1-score   support\n",
            "\n",
            "           0       0.78      0.98      0.87        46\n",
            "           1       0.98      0.76      0.86        55\n",
            "\n",
            "    accuracy                           0.86       101\n",
            "   macro avg       0.88      0.87      0.86       101\n",
            "weighted avg       0.89      0.86      0.86       101\n",
            "\n"
          ],
          "name": "stdout"
        }
      ]
    },
    {
      "cell_type": "code",
      "metadata": {
        "id": "JKQloKD7zAh5",
        "colab_type": "code",
        "colab": {
          "base_uri": "https://localhost:8080/",
          "height": 51
        },
        "outputId": "bea522d6-67d5-4cc9-ec62-eb9bdb1c0fd9"
      },
      "source": [
        "from sklearn.metrics import roc_auc_score,f1_score\n",
        "print(\"roc_auc_score: \", roc_auc_score(y_test, y_pred))\n",
        "print(\"f1 score: \", f1_score(y_test, y_pred))"
      ],
      "execution_count": null,
      "outputs": [
        {
          "output_type": "stream",
          "text": [
            "roc_auc_score:  0.8709486166007905\n",
            "f1 score:  0.8571428571428571\n"
          ],
          "name": "stdout"
        }
      ]
    },
    {
      "cell_type": "code",
      "metadata": {
        "id": "fZ_YkUzJzFfR",
        "colab_type": "code",
        "colab": {
          "base_uri": "https://localhost:8080/",
          "height": 170
        },
        "outputId": "607c5962-949e-4695-fd32-5adf8ad2b698"
      },
      "source": [
        "from sklearn.neighbors import KNeighborsClassifier\n",
        "reg_knn = KNeighborsClassifier()\n",
        "reg_knn.fit(X_train, y_train)\n",
        "y_pred = reg_knn.predict(X_test)\n",
        "print(metrics.classification_report(y_test, y_pred))\n"
      ],
      "execution_count": null,
      "outputs": [
        {
          "output_type": "stream",
          "text": [
            "              precision    recall  f1-score   support\n",
            "\n",
            "           0       0.79      0.96      0.86        46\n",
            "           1       0.96      0.78      0.86        55\n",
            "\n",
            "    accuracy                           0.86       101\n",
            "   macro avg       0.87      0.87      0.86       101\n",
            "weighted avg       0.88      0.86      0.86       101\n",
            "\n"
          ],
          "name": "stdout"
        }
      ]
    },
    {
      "cell_type": "code",
      "metadata": {
        "id": "0bCbuHMHzSYL",
        "colab_type": "code",
        "colab": {
          "base_uri": "https://localhost:8080/",
          "height": 51
        },
        "outputId": "92f11f41-280c-4dba-8f3c-708e7beb48ab"
      },
      "source": [
        "from sklearn.metrics import roc_auc_score,f1_score\n",
        "print(\"roc_auc_score: \", roc_auc_score(y_test, y_pred))\n",
        "print(\"f1 score: \", f1_score(y_test, y_pred))"
      ],
      "execution_count": null,
      "outputs": [
        {
          "output_type": "stream",
          "text": [
            "roc_auc_score:  0.8691699604743083\n",
            "f1 score:  0.86\n"
          ],
          "name": "stdout"
        }
      ]
    },
    {
      "cell_type": "code",
      "metadata": {
        "id": "m-wxvHgwzVI-",
        "colab_type": "code",
        "colab": {}
      },
      "source": [
        ""
      ],
      "execution_count": null,
      "outputs": []
    }
  ]
}