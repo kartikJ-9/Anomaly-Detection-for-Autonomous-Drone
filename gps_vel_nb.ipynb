{
 "cells": [
  {
   "cell_type": "code",
   "execution_count": 2,
   "metadata": {},
   "outputs": [],
   "source": [
    "import numpy as np\n",
    "import pandas as pd\n",
    "import matplotlib.pyplot as plt\n",
    "import sklearn as sk"
   ]
  },
  {
   "cell_type": "code",
   "execution_count": 3,
   "metadata": {},
   "outputs": [],
   "source": [
    "df = pd.read_csv('_slash_mavros_slash_global_position_slash_raw_slash_gps_vel.csv')"
   ]
  },
  {
   "cell_type": "code",
   "execution_count": 4,
   "metadata": {},
   "outputs": [
    {
     "data": {
      "text/html": [
       "<div>\n",
       "<style scoped>\n",
       "    .dataframe tbody tr th:only-of-type {\n",
       "        vertical-align: middle;\n",
       "    }\n",
       "\n",
       "    .dataframe tbody tr th {\n",
       "        vertical-align: top;\n",
       "    }\n",
       "\n",
       "    .dataframe thead th {\n",
       "        text-align: right;\n",
       "    }\n",
       "</style>\n",
       "<table border=\"1\" class=\"dataframe\">\n",
       "  <thead>\n",
       "    <tr style=\"text-align: right;\">\n",
       "      <th></th>\n",
       "      <th>rosbagTimestamp</th>\n",
       "      <th>seq</th>\n",
       "      <th>secs</th>\n",
       "      <th>nsecs</th>\n",
       "      <th>xl</th>\n",
       "      <th>yl</th>\n",
       "      <th>zl</th>\n",
       "      <th>normality</th>\n",
       "    </tr>\n",
       "  </thead>\n",
       "  <tbody>\n",
       "    <tr>\n",
       "      <th>0</th>\n",
       "      <td>1.570000e+18</td>\n",
       "      <td>53</td>\n",
       "      <td>1574069785</td>\n",
       "      <td>858138123</td>\n",
       "      <td>-0.137454</td>\n",
       "      <td>0.184408</td>\n",
       "      <td>0</td>\n",
       "      <td>1</td>\n",
       "    </tr>\n",
       "    <tr>\n",
       "      <th>1</th>\n",
       "      <td>1.570000e+18</td>\n",
       "      <td>54</td>\n",
       "      <td>1574069786</td>\n",
       "      <td>110338604</td>\n",
       "      <td>-0.251003</td>\n",
       "      <td>0.336746</td>\n",
       "      <td>0</td>\n",
       "      <td>1</td>\n",
       "    </tr>\n",
       "    <tr>\n",
       "      <th>2</th>\n",
       "      <td>1.570000e+18</td>\n",
       "      <td>55</td>\n",
       "      <td>1574069786</td>\n",
       "      <td>356408699</td>\n",
       "      <td>-0.107573</td>\n",
       "      <td>0.144320</td>\n",
       "      <td>0</td>\n",
       "      <td>1</td>\n",
       "    </tr>\n",
       "    <tr>\n",
       "      <th>3</th>\n",
       "      <td>1.570000e+18</td>\n",
       "      <td>56</td>\n",
       "      <td>1574069786</td>\n",
       "      <td>578747487</td>\n",
       "      <td>-0.155383</td>\n",
       "      <td>0.208462</td>\n",
       "      <td>0</td>\n",
       "      <td>1</td>\n",
       "    </tr>\n",
       "    <tr>\n",
       "      <th>4</th>\n",
       "      <td>1.570000e+18</td>\n",
       "      <td>57</td>\n",
       "      <td>1574069786</td>\n",
       "      <td>823320336</td>\n",
       "      <td>-0.011953</td>\n",
       "      <td>0.016036</td>\n",
       "      <td>0</td>\n",
       "      <td>1</td>\n",
       "    </tr>\n",
       "  </tbody>\n",
       "</table>\n",
       "</div>"
      ],
      "text/plain": [
       "   rosbagTimestamp  seq        secs      nsecs        xl        yl  zl  \\\n",
       "0     1.570000e+18   53  1574069785  858138123 -0.137454  0.184408   0   \n",
       "1     1.570000e+18   54  1574069786  110338604 -0.251003  0.336746   0   \n",
       "2     1.570000e+18   55  1574069786  356408699 -0.107573  0.144320   0   \n",
       "3     1.570000e+18   56  1574069786  578747487 -0.155383  0.208462   0   \n",
       "4     1.570000e+18   57  1574069786  823320336 -0.011953  0.016036   0   \n",
       "\n",
       "   normality  \n",
       "0          1  \n",
       "1          1  \n",
       "2          1  \n",
       "3          1  \n",
       "4          1  "
      ]
     },
     "execution_count": 4,
     "metadata": {},
     "output_type": "execute_result"
    }
   ],
   "source": [
    "df.head(5)"
   ]
  },
  {
   "cell_type": "code",
   "execution_count": 26,
   "metadata": {},
   "outputs": [],
   "source": [
    "df = df.reindex(np.random.permutation(df.index))\n"
   ]
  },
  {
   "cell_type": "code",
   "execution_count": 27,
   "metadata": {},
   "outputs": [],
   "source": [
    "X = df.loc[:,['xl','yl']]\n",
    "y = df.loc[:,['normality']]"
   ]
  },
  {
   "cell_type": "code",
   "execution_count": 28,
   "metadata": {},
   "outputs": [],
   "source": [
    "from sklearn.model_selection import train_test_split\n",
    "X_train, X_test, y_train, y_test = train_test_split(X, y, test_size=0.4, random_state=42)"
   ]
  },
  {
   "cell_type": "code",
   "execution_count": 29,
   "metadata": {},
   "outputs": [
    {
     "name": "stderr",
     "output_type": "stream",
     "text": [
      "C:\\Users\\Dell\\Anaconda3\\lib\\site-packages\\sklearn\\utils\\validation.py:761: DataConversionWarning: A column-vector y was passed when a 1d array was expected. Please change the shape of y to (n_samples, ), for example using ravel().\n",
      "  y = column_or_1d(y, warn=True)\n"
     ]
    },
    {
     "data": {
      "text/plain": [
       "GaussianNB(priors=None, var_smoothing=1e-09)"
      ]
     },
     "execution_count": 29,
     "metadata": {},
     "output_type": "execute_result"
    }
   ],
   "source": [
    "from sklearn.naive_bayes import GaussianNB\n",
    "model = GaussianNB()\n",
    "model.fit(X_train,y_train)"
   ]
  },
  {
   "cell_type": "code",
   "execution_count": 43,
   "metadata": {},
   "outputs": [
    {
     "name": "stdout",
     "output_type": "stream",
     "text": [
      "0.9379310344827586\n"
     ]
    }
   ],
   "source": [
    "pred = model.predict(X_test)\n",
    "score = model.score(X_test,y_test)\n",
    "print(score)"
   ]
  },
  {
   "cell_type": "code",
   "execution_count": 44,
   "metadata": {},
   "outputs": [
    {
     "data": {
      "text/plain": [
       "array([[ 13,   5],\n",
       "       [  4, 123]], dtype=int64)"
      ]
     },
     "execution_count": 44,
     "metadata": {},
     "output_type": "execute_result"
    }
   ],
   "source": [
    "from sklearn.metrics import confusion_matrix\n",
    "confusion_matrix(y_test,pred)"
   ]
  },
  {
   "cell_type": "code",
   "execution_count": 75,
   "metadata": {},
   "outputs": [
    {
     "data": {
      "text/plain": [
       "array([[0.64170597, 0.22193821],\n",
       "       [0.52650966, 0.464172  ],\n",
       "       [0.65840712, 0.2031987 ],\n",
       "       [0.63646978, 0.23294883],\n",
       "       [0.64825122, 0.20817492],\n",
       "       [0.64170597, 0.22193821],\n",
       "       [0.71031344, 0.23054659],\n",
       "       [0.61290689, 0.28249666],\n",
       "       [0.62468834, 0.25772275],\n",
       "       [0.61814309, 0.27148603],\n",
       "       [0.63385168, 0.23845415],\n",
       "       [0.61421594, 0.279744  ],\n",
       "       [0.62207024, 0.26322806],\n",
       "       [0.60897975, 0.29075463],\n",
       "       [0.63385168, 0.23845415],\n",
       "       [0.63385168, 0.23845415],\n",
       "       [0.59981641, 0.31002322],\n",
       "       [0.63254263, 0.2412068 ],\n",
       "       [0.64301502, 0.21918555],\n",
       "       [0.62730643, 0.25221743],\n",
       "       [0.62337929, 0.2604754 ],\n",
       "       [0.62207024, 0.26322806],\n",
       "       [0.62861548, 0.24946477],\n",
       "       [0.67086464, 0.20976219],\n",
       "       [0.85149864, 0.30493284],\n",
       "       [0.64432407, 0.21643289],\n",
       "       [0.63777883, 0.23019618],\n",
       "       [0.60636165, 0.29625994],\n",
       "       [0.59850736, 0.31277588],\n",
       "       [0.54448835, 0.15336095],\n",
       "       [0.63123358, 0.24395946],\n",
       "       [0.63516073, 0.23570149],\n",
       "       [1.07717554, 1.20823855],\n",
       "       [0.59327116, 0.32378651],\n",
       "       [0.70823719, 0.22945267],\n",
       "       [0.6050526 , 0.2990126 ],\n",
       "       [0.68955092, 0.21960743],\n",
       "       [0.62861548, 0.24946477],\n",
       "       [0.63123358, 0.24395946],\n",
       "       [0.61814309, 0.27148603],\n",
       "       [0.59719831, 0.31552854],\n",
       "       [0.6102888 , 0.28800197],\n",
       "       [0.64563312, 0.21368024],\n",
       "       [0.62599738, 0.25497009],\n",
       "       [0.63516073, 0.23570149],\n",
       "       [0.64956027, 0.20542227],\n",
       "       [0.61159785, 0.28524931],\n",
       "       [0.63908787, 0.22744352],\n",
       "       [0.64563312, 0.21368024],\n",
       "       [0.6076707 , 0.29350728],\n",
       "       [0.59719831, 0.31552854],\n",
       "       [0.63385168, 0.23845415],\n",
       "       [0.62599738, 0.25497009],\n",
       "       [0.78505855, 0.26992754],\n",
       "       [0.62337929, 0.2604754 ],\n",
       "       [0.63777883, 0.23019618],\n",
       "       [0.60897975, 0.29075463],\n",
       "       [0.64170597, 0.22193821],\n",
       "       [0.64825122, 0.20817492],\n",
       "       [0.64956027, 0.20542227],\n",
       "       [0.62337929, 0.2604754 ],\n",
       "       [0.59327116, 0.32378651],\n",
       "       [0.61814309, 0.27148603],\n",
       "       [0.59850736, 0.31277588],\n",
       "       [0.6024345 , 0.30451791],\n",
       "       [0.64694217, 0.21092758],\n",
       "       [0.59981641, 0.31002322],\n",
       "       [0.61421594, 0.279744  ],\n",
       "       [0.62861548, 0.24946477],\n",
       "       [0.64170597, 0.22193821],\n",
       "       [0.63516073, 0.23570149],\n",
       "       [0.63123358, 0.24395946],\n",
       "       [0.62861548, 0.24946477],\n",
       "       [0.62337929, 0.2604754 ],\n",
       "       [0.62992453, 0.24671212],\n",
       "       [0.58672592, 0.33754979],\n",
       "       [0.60572385, 0.17983397],\n",
       "       [0.52781871, 0.46141935],\n",
       "       [0.56578113, 0.3815923 ],\n",
       "       [0.70461918, 0.38504984],\n",
       "       [0.63254263, 0.2412068 ],\n",
       "       [0.705508  , 0.38818769],\n",
       "       [0.63646978, 0.23294883],\n",
       "       [0.64301502, 0.21918555],\n",
       "       [0.6076707 , 0.29350728],\n",
       "       [0.61552499, 0.27699134],\n",
       "       [0.62992453, 0.24671212],\n",
       "       [0.62468834, 0.25772275],\n",
       "       [0.64432407, 0.21643289],\n",
       "       [0.63254263, 0.2412068 ],\n",
       "       [0.57494447, 0.3623237 ],\n",
       "       [0.64563312, 0.21368024],\n",
       "       [0.59981641, 0.31002322],\n",
       "       [0.69577967, 0.22288918],\n",
       "       [0.64694217, 0.21092758],\n",
       "       [0.59719831, 0.31552854],\n",
       "       [0.61159785, 0.28524931],\n",
       "       [0.62992453, 0.24671212],\n",
       "       [0.57494447, 0.3623237 ],\n",
       "       [0.64301502, 0.21918555],\n",
       "       [0.62076119, 0.26598072],\n",
       "       [0.7165422 , 0.23382833],\n",
       "       [0.71972924, 0.43839322],\n",
       "       [0.64563312, 0.21368024],\n",
       "       [0.81305611, 0.767867  ],\n",
       "       [0.59065306, 0.32929182],\n",
       "       [0.62337929, 0.2604754 ],\n",
       "       [0.63908787, 0.22744352],\n",
       "       [0.54483635, 0.42563481],\n",
       "       [0.64432407, 0.21643289],\n",
       "       [0.64039692, 0.22469086],\n",
       "       [0.62207024, 0.26322806],\n",
       "       [0.82955698, 0.40714543],\n",
       "       [0.61814309, 0.27148603],\n",
       "       [0.64825122, 0.20817492],\n",
       "       [0.64432407, 0.21643289],\n",
       "       [0.73522848, 0.24367357],\n",
       "       [0.62207024, 0.26322806],\n",
       "       [0.64170597, 0.22193821],\n",
       "       [0.64956027, 0.20542227],\n",
       "       [0.63516073, 0.23570149],\n",
       "       [0.61421594, 0.279744  ],\n",
       "       [0.64170597, 0.22193821],\n",
       "       [0.63516073, 0.23570149],\n",
       "       [0.63385168, 0.23845415],\n",
       "       [0.63385168, 0.23845415],\n",
       "       [0.63123358, 0.24395946],\n",
       "       [0.62337929, 0.2604754 ],\n",
       "       [0.60636165, 0.29625994],\n",
       "       [0.61159785, 0.28524931],\n",
       "       [0.59327116, 0.32378651],\n",
       "       [0.61683404, 0.27423869],\n",
       "       [0.63646978, 0.23294883],\n",
       "       [0.61814309, 0.27148603],\n",
       "       [0.60374355, 0.30176525],\n",
       "       [0.64956027, 0.20542227],\n",
       "       [0.5435273 , 0.42838746],\n",
       "       [0.64563312, 0.21368024],\n",
       "       [0.64694217, 0.21092758],\n",
       "       [0.59981641, 0.31002322],\n",
       "       [0.62337929, 0.2604754 ],\n",
       "       [0.63646978, 0.23294883],\n",
       "       [0.58410782, 0.3430551 ],\n",
       "       [0.65217836, 0.19991695],\n",
       "       [0.62992453, 0.24671212]])"
      ]
     },
     "execution_count": 75,
     "metadata": {},
     "output_type": "execute_result"
    }
   ],
   "source": [
    "from sklearn.preprocessing import MinMaxScaler\n",
    "scaler = MinMaxScaler()\n",
    "X_train = scaler.fit_transform(X_train)\n",
    "scaler.transform(X_test)"
   ]
  },
  {
   "cell_type": "code",
   "execution_count": null,
   "metadata": {},
   "outputs": [],
   "source": []
  },
  {
   "cell_type": "code",
   "execution_count": 77,
   "metadata": {},
   "outputs": [
    {
     "name": "stderr",
     "output_type": "stream",
     "text": [
      "C:\\Users\\Dell\\Anaconda3\\lib\\site-packages\\sklearn\\utils\\validation.py:761: DataConversionWarning: A column-vector y was passed when a 1d array was expected. Please change the shape of y to (n_samples, ), for example using ravel().\n",
      "  y = column_or_1d(y, warn=True)\n"
     ]
    }
   ],
   "source": [
    "from sklearn.naive_bayes import MultinomialNB\n",
    "model = MultinomialNB()\n",
    "model = model.fit(X_train,y_train)\n"
   ]
  },
  {
   "cell_type": "code",
   "execution_count": 78,
   "metadata": {},
   "outputs": [
    {
     "name": "stdout",
     "output_type": "stream",
     "text": [
      "0.8758620689655172\n"
     ]
    }
   ],
   "source": [
    "pred = model.predict(X_test)\n",
    "score = model.score(X_test,y_test)\n",
    "print(score)"
   ]
  },
  {
   "cell_type": "code",
   "execution_count": 79,
   "metadata": {},
   "outputs": [
    {
     "data": {
      "text/plain": [
       "array([[  0,  18],\n",
       "       [  0, 127]], dtype=int64)"
      ]
     },
     "execution_count": 79,
     "metadata": {},
     "output_type": "execute_result"
    }
   ],
   "source": [
    "from sklearn.metrics import confusion_matrix\n",
    "confusion_matrix(y_test,pred)"
   ]
  },
  {
   "cell_type": "code",
   "execution_count": null,
   "metadata": {},
   "outputs": [],
   "source": []
  }
 ],
 "metadata": {
  "kernelspec": {
   "display_name": "Python 3",
   "language": "python",
   "name": "python3"
  },
  "language_info": {
   "codemirror_mode": {
    "name": "ipython",
    "version": 3
   },
   "file_extension": ".py",
   "mimetype": "text/x-python",
   "name": "python",
   "nbconvert_exporter": "python",
   "pygments_lexer": "ipython3",
   "version": "3.6.8"
  }
 },
 "nbformat": 4,
 "nbformat_minor": 2
}
